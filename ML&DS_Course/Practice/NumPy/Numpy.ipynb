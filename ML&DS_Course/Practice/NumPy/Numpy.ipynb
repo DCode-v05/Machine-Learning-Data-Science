{
 "cells": [
  {
   "cell_type": "code",
   "execution_count": 78,
   "id": "582abd43-2a97-468d-ace6-8e4f1f7bc3e6",
   "metadata": {},
   "outputs": [],
   "source": [
    "import numpy as np"
   ]
  },
  {
   "cell_type": "code",
   "execution_count": 79,
   "id": "0cc01462-f24f-49b0-a4bd-2d51b9c12d9b",
   "metadata": {},
   "outputs": [
    {
     "data": {
      "text/plain": [
       "array([[1, 2, 3, 4, 5],\n",
       "       [6, 7, 8, 9, 0]])"
      ]
     },
     "execution_count": 79,
     "metadata": {},
     "output_type": "execute_result"
    }
   ],
   "source": [
    "a=np.array([[1,2,3,4,5],[6,7,8,9,0]])\n",
    "a"
   ]
  },
  {
   "cell_type": "code",
   "execution_count": 80,
   "id": "0625b689-df33-4f5c-a333-a96653cdaada",
   "metadata": {},
   "outputs": [
    {
     "data": {
      "text/plain": [
       "(2, 5)"
      ]
     },
     "execution_count": 80,
     "metadata": {},
     "output_type": "execute_result"
    }
   ],
   "source": [
    "a.shape"
   ]
  },
  {
   "cell_type": "code",
   "execution_count": 81,
   "id": "d24e195a-0671-441c-a8d6-872e2139c392",
   "metadata": {},
   "outputs": [
    {
     "data": {
      "text/plain": [
       "2"
      ]
     },
     "execution_count": 81,
     "metadata": {},
     "output_type": "execute_result"
    }
   ],
   "source": [
    "a.ndim"
   ]
  },
  {
   "cell_type": "code",
   "execution_count": 82,
   "id": "720fd020-d696-4234-bf2a-3710c930699b",
   "metadata": {},
   "outputs": [
    {
     "data": {
      "text/plain": [
       "10"
      ]
     },
     "execution_count": 82,
     "metadata": {},
     "output_type": "execute_result"
    }
   ],
   "source": [
    "a.size"
   ]
  },
  {
   "cell_type": "code",
   "execution_count": 83,
   "id": "84a5e6d0-02ec-4416-9026-eab0535a77b6",
   "metadata": {},
   "outputs": [
    {
     "data": {
      "text/plain": [
       "numpy.ndarray"
      ]
     },
     "execution_count": 83,
     "metadata": {},
     "output_type": "execute_result"
    }
   ],
   "source": [
    "type(a)"
   ]
  },
  {
   "cell_type": "code",
   "execution_count": 84,
   "id": "275d6129-8be2-44b4-9982-0d5f758680de",
   "metadata": {},
   "outputs": [
    {
     "data": {
      "text/plain": [
       "array([[1, 1, 1, 1],\n",
       "       [1, 1, 1, 1]])"
      ]
     },
     "execution_count": 84,
     "metadata": {},
     "output_type": "execute_result"
    }
   ],
   "source": [
    "a1=np.ones((2,4),int)\n",
    "a1"
   ]
  },
  {
   "cell_type": "code",
   "execution_count": 85,
   "id": "b13b0831-03ce-4756-a18f-2e660d0d1794",
   "metadata": {},
   "outputs": [
    {
     "data": {
      "text/plain": [
       "array([[0, 0, 0, 0],\n",
       "       [0, 0, 0, 0]])"
      ]
     },
     "execution_count": 85,
     "metadata": {},
     "output_type": "execute_result"
    }
   ],
   "source": [
    "a0=np.zeros((2,4),int)\n",
    "a0"
   ]
  },
  {
   "cell_type": "code",
   "execution_count": 86,
   "id": "23308537-cd63-401c-b989-a49969fc5f8d",
   "metadata": {},
   "outputs": [
    {
     "data": {
      "text/plain": [
       "array([0, 1, 2, 3, 4, 5, 6, 7, 8, 9])"
      ]
     },
     "execution_count": 86,
     "metadata": {},
     "output_type": "execute_result"
    }
   ],
   "source": [
    "aran=np.arange(0,10)\n",
    "aran"
   ]
  },
  {
   "cell_type": "code",
   "execution_count": 87,
   "id": "5276598d-56be-4340-8ec5-4e53627d2c23",
   "metadata": {},
   "outputs": [
    {
     "data": {
      "text/plain": [
       "array([[84, 84, 79, 66],\n",
       "       [55, 79, 58, 81],\n",
       "       [72, 83, 67, 76]])"
      ]
     },
     "execution_count": 87,
     "metadata": {},
     "output_type": "execute_result"
    }
   ],
   "source": [
    "arand=np.random.randint(54,85,(3,4),int)\n",
    "arand"
   ]
  },
  {
   "cell_type": "code",
   "execution_count": 88,
   "id": "2a9b00be-c58b-479c-9869-53470bf78064",
   "metadata": {},
   "outputs": [
    {
     "data": {
      "text/plain": [
       "array([0.8052232 , 0.52164715, 0.90864888, 0.31923609, 0.09045935,\n",
       "       0.30070006, 0.11398436, 0.82868133, 0.04689632, 0.62628715])"
      ]
     },
     "execution_count": 88,
     "metadata": {},
     "output_type": "execute_result"
    }
   ],
   "source": [
    "arand1=np.random.random(10)\n",
    "arand1"
   ]
  },
  {
   "cell_type": "code",
   "execution_count": 89,
   "id": "56c4e1cf-88db-490e-97e5-6a39665c5bac",
   "metadata": {},
   "outputs": [
    {
     "data": {
      "text/plain": [
       "array([[0.54758616, 0.819287  ],\n",
       "       [0.19894754, 0.8568503 ],\n",
       "       [0.35165264, 0.75464769]])"
      ]
     },
     "execution_count": 89,
     "metadata": {},
     "output_type": "execute_result"
    }
   ],
   "source": [
    "arand2=np.random.rand(3,2)\n",
    "arand2"
   ]
  },
  {
   "cell_type": "code",
   "execution_count": 90,
   "id": "6348bf9c-651c-4b95-bfdf-e63632255f6e",
   "metadata": {},
   "outputs": [
    {
     "data": {
      "text/plain": [
       "array([[9, 4, 0, 1],\n",
       "       [9, 0, 1, 8],\n",
       "       [9, 0, 8, 6],\n",
       "       [4, 3, 0, 4]])"
      ]
     },
     "execution_count": 90,
     "metadata": {},
     "output_type": "execute_result"
    }
   ],
   "source": [
    "np.random.seed(10)\n",
    "rands=np.random.randint(0,10,(4,4))\n",
    "rands"
   ]
  },
  {
   "cell_type": "code",
   "execution_count": 91,
   "id": "abcf9f75-071b-489a-b68a-4c125a420ac3",
   "metadata": {},
   "outputs": [
    {
     "data": {
      "text/plain": [
       "array([55, 58, 66, 67, 72, 76, 79, 81, 83, 84])"
      ]
     },
     "execution_count": 91,
     "metadata": {},
     "output_type": "execute_result"
    }
   ],
   "source": [
    "np.unique(arand)"
   ]
  },
  {
   "cell_type": "code",
   "execution_count": 92,
   "id": "850cd544-eb53-408a-89f8-e9304c0ccc50",
   "metadata": {},
   "outputs": [
    {
     "data": {
      "text/plain": [
       "array([[[[6, 8, 1, 8, 4],\n",
       "         [1, 3, 6, 5, 3],\n",
       "         [9, 6, 9, 1, 9],\n",
       "         [4, 2, 6, 7, 8]],\n",
       "\n",
       "        [[8, 9, 2, 0, 6],\n",
       "         [7, 8, 1, 7, 1],\n",
       "         [4, 0, 8, 5, 4],\n",
       "         [7, 8, 8, 2, 6]],\n",
       "\n",
       "        [[2, 8, 8, 6, 6],\n",
       "         [5, 6, 0, 0, 6],\n",
       "         [9, 1, 8, 9, 1],\n",
       "         [2, 8, 9, 9, 5]]],\n",
       "\n",
       "\n",
       "       [[[0, 2, 7, 3, 0],\n",
       "         [4, 2, 0, 3, 3],\n",
       "         [1, 2, 5, 9, 0],\n",
       "         [1, 0, 1, 9, 0]],\n",
       "\n",
       "        [[9, 2, 1, 1, 0],\n",
       "         [0, 5, 9, 0, 4],\n",
       "         [6, 6, 0, 2, 3],\n",
       "         [3, 2, 6, 0, 5]],\n",
       "\n",
       "        [[1, 3, 6, 5, 5],\n",
       "         [1, 8, 0, 5, 9],\n",
       "         [8, 5, 7, 8, 5],\n",
       "         [8, 9, 9, 1, 5]]]])"
      ]
     },
     "execution_count": 92,
     "metadata": {},
     "output_type": "execute_result"
    }
   ],
   "source": [
    "ara=np.random.randint(10,size=(2,3,4,5))\n",
    "ara"
   ]
  },
  {
   "cell_type": "code",
   "execution_count": 93,
   "id": "7c40d578-7273-4750-bfcb-4b657fc6daf1",
   "metadata": {},
   "outputs": [
    {
     "data": {
      "text/plain": [
       "array([[[[8, 9, 2],\n",
       "         [7, 8, 1]]],\n",
       "\n",
       "\n",
       "       [[[9, 2, 1],\n",
       "         [0, 5, 9]]]])"
      ]
     },
     "execution_count": 93,
     "metadata": {},
     "output_type": "execute_result"
    }
   ],
   "source": [
    "ara[:,1:2,:2,:3]"
   ]
  },
  {
   "cell_type": "code",
   "execution_count": 94,
   "id": "61fa7398-c218-4e92-96ba-016ceb0a9caf",
   "metadata": {},
   "outputs": [
    {
     "data": {
      "text/plain": [
       "array([9, 1, 4, 7, 7])"
      ]
     },
     "execution_count": 94,
     "metadata": {},
     "output_type": "execute_result"
    }
   ],
   "source": [
    "ara1=np.random.randint(10,size=(5))\n",
    "ara1"
   ]
  },
  {
   "cell_type": "code",
   "execution_count": 95,
   "id": "1d68c5a3-95f8-4780-b3f4-29597a1865c3",
   "metadata": {},
   "outputs": [
    {
     "data": {
      "text/plain": [
       "array([10,  2,  5,  8,  8])"
      ]
     },
     "execution_count": 95,
     "metadata": {},
     "output_type": "execute_result"
    }
   ],
   "source": [
    "ara1+1"
   ]
  },
  {
   "cell_type": "code",
   "execution_count": 96,
   "id": "6f243748-ff4b-4bcc-822c-7ae3b4ad539c",
   "metadata": {},
   "outputs": [
    {
     "data": {
      "text/plain": [
       "array([8, 0, 3, 6, 6])"
      ]
     },
     "execution_count": 96,
     "metadata": {},
     "output_type": "execute_result"
    }
   ],
   "source": [
    "ara1-1"
   ]
  },
  {
   "cell_type": "code",
   "execution_count": 97,
   "id": "9a5019a1-407b-4712-b1de-afef834e5b0d",
   "metadata": {},
   "outputs": [
    {
     "data": {
      "text/plain": [
       "array([18,  2,  8, 14, 14])"
      ]
     },
     "execution_count": 97,
     "metadata": {},
     "output_type": "execute_result"
    }
   ],
   "source": [
    "ara1*2"
   ]
  },
  {
   "cell_type": "code",
   "execution_count": 98,
   "id": "68ab9c7c-f04f-4daa-a9e8-e2678f5bcce4",
   "metadata": {},
   "outputs": [
    {
     "data": {
      "text/plain": [
       "array([4.5, 0.5, 2. , 3.5, 3.5])"
      ]
     },
     "execution_count": 98,
     "metadata": {},
     "output_type": "execute_result"
    }
   ],
   "source": [
    "ara1/2"
   ]
  },
  {
   "cell_type": "code",
   "execution_count": 99,
   "id": "459dd7b0-00e1-448a-bf31-f6ffa79b3491",
   "metadata": {},
   "outputs": [
    {
     "data": {
      "text/plain": [
       "array([4, 0, 2, 3, 3], dtype=int32)"
      ]
     },
     "execution_count": 99,
     "metadata": {},
     "output_type": "execute_result"
    }
   ],
   "source": [
    "ara1//2"
   ]
  },
  {
   "cell_type": "code",
   "execution_count": 100,
   "id": "a709ad50-6d93-4f48-8baa-bd90fc95fa61",
   "metadata": {},
   "outputs": [
    {
     "data": {
      "text/plain": [
       "array([0, 1, 1, 1, 1], dtype=int32)"
      ]
     },
     "execution_count": 100,
     "metadata": {},
     "output_type": "execute_result"
    }
   ],
   "source": [
    "ara1%3"
   ]
  },
  {
   "cell_type": "code",
   "execution_count": 101,
   "id": "dd2f9fe0-6e11-484e-87ec-af4ed282e2cb",
   "metadata": {},
   "outputs": [
    {
     "data": {
      "text/plain": [
       "array([81,  1, 16, 49, 49])"
      ]
     },
     "execution_count": 101,
     "metadata": {},
     "output_type": "execute_result"
    }
   ],
   "source": [
    "ara1**2"
   ]
  },
  {
   "cell_type": "code",
   "execution_count": 102,
   "id": "b4466d2f-5f50-4066-aea0-764b01d4f5b8",
   "metadata": {},
   "outputs": [
    {
     "data": {
      "text/plain": [
       "array([3.        , 1.        , 2.        , 2.64575131, 2.64575131])"
      ]
     },
     "execution_count": 102,
     "metadata": {},
     "output_type": "execute_result"
    }
   ],
   "source": [
    "np.sqrt(ara1)"
   ]
  },
  {
   "cell_type": "code",
   "execution_count": 103,
   "id": "8c406556-34ff-44c0-97e9-23d6d77653e6",
   "metadata": {},
   "outputs": [
    {
     "data": {
      "text/plain": [
       "1.0"
      ]
     },
     "execution_count": 103,
     "metadata": {},
     "output_type": "execute_result"
    }
   ],
   "source": [
    "np.exp(0)"
   ]
  },
  {
   "cell_type": "code",
   "execution_count": 104,
   "id": "40df06f5-92c7-46ae-8176-822c1e99e6de",
   "metadata": {},
   "outputs": [
    {
     "data": {
      "text/plain": [
       "0.0"
      ]
     },
     "execution_count": 104,
     "metadata": {},
     "output_type": "execute_result"
    }
   ],
   "source": [
    "np.log(1)"
   ]
  },
  {
   "cell_type": "code",
   "execution_count": 105,
   "id": "ca23f5dd-8289-4539-99bd-83470d32e2f2",
   "metadata": {},
   "outputs": [
    {
     "data": {
      "text/plain": [
       "array([0, 1, 1, 1, 1], dtype=int32)"
      ]
     },
     "execution_count": 105,
     "metadata": {},
     "output_type": "execute_result"
    }
   ],
   "source": [
    "np.mod(ara1,3)"
   ]
  },
  {
   "cell_type": "code",
   "execution_count": 106,
   "id": "f0826f4a-25d1-4f83-ba58-9cf230d1dea3",
   "metadata": {},
   "outputs": [],
   "source": [
    "ran=np.random.randint(100,size=(1000))"
   ]
  },
  {
   "cell_type": "code",
   "execution_count": 107,
   "id": "a12b3957-c55e-4804-b784-e9d538689bfd",
   "metadata": {},
   "outputs": [
    {
     "data": {
      "text/plain": [
       "array([91,  9,  7, 22, 32,  3,  9, 52, 76, 68])"
      ]
     },
     "execution_count": 107,
     "metadata": {},
     "output_type": "execute_result"
    }
   ],
   "source": [
    "ran[:10]"
   ]
  },
  {
   "cell_type": "code",
   "execution_count": 108,
   "id": "11de8f1d-4e36-41f6-ad89-36d57c8b9a72",
   "metadata": {},
   "outputs": [
    {
     "data": {
      "text/plain": [
       "29.117488834032372"
      ]
     },
     "execution_count": 108,
     "metadata": {},
     "output_type": "execute_result"
    }
   ],
   "source": [
    "np.std(ran)"
   ]
  },
  {
   "cell_type": "code",
   "execution_count": 109,
   "id": "b497fbd6-22de-4d97-80b3-b906f59cb28f",
   "metadata": {},
   "outputs": [
    {
     "data": {
      "text/plain": [
       "847.8281559999999"
      ]
     },
     "execution_count": 109,
     "metadata": {},
     "output_type": "execute_result"
    }
   ],
   "source": [
    "np.var(ran)"
   ]
  },
  {
   "cell_type": "code",
   "execution_count": 110,
   "id": "fe2fcd33-880b-4e15-95a2-65a4da49e101",
   "metadata": {},
   "outputs": [
    {
     "data": {
      "text/plain": [
       "29.117488834032372"
      ]
     },
     "execution_count": 110,
     "metadata": {},
     "output_type": "execute_result"
    }
   ],
   "source": [
    "np.sqrt(np.var(ran))"
   ]
  },
  {
   "cell_type": "code",
   "execution_count": 111,
   "id": "3b00d46a-015b-4b97-9725-33ae195e90b3",
   "metadata": {},
   "outputs": [
    {
     "data": {
      "text/plain": [
       "array([[[5, 5, 6, 3, 4, 5, 2, 6, 9, 1],\n",
       "        [1, 5, 6, 2, 3, 9, 1, 6, 3, 3],\n",
       "        [5, 7, 3, 1, 3, 1, 8, 3, 6, 6],\n",
       "        [2, 5, 2, 8, 9, 8, 5, 5, 3, 8],\n",
       "        [9, 6, 9, 3, 7, 2, 5, 7, 2, 5]],\n",
       "\n",
       "       [[1, 6, 5, 7, 2, 3, 3, 3, 5, 9],\n",
       "        [9, 9, 1, 7, 1, 4, 3, 2, 1, 3],\n",
       "        [4, 1, 2, 4, 1, 2, 1, 4, 4, 4],\n",
       "        [1, 9, 3, 9, 4, 6, 1, 6, 3, 5],\n",
       "        [4, 2, 6, 4, 7, 5, 2, 9, 1, 5]],\n",
       "\n",
       "       [[9, 4, 4, 4, 8, 9, 7, 2, 6, 9],\n",
       "        [4, 9, 9, 9, 3, 2, 8, 4, 8, 8],\n",
       "        [3, 8, 5, 2, 1, 8, 4, 8, 4, 8],\n",
       "        [3, 5, 5, 4, 7, 2, 8, 2, 6, 6],\n",
       "        [6, 7, 2, 8, 2, 7, 1, 3, 3, 7]],\n",
       "\n",
       "       [[9, 6, 8, 2, 8, 2, 2, 2, 3, 6],\n",
       "        [2, 9, 3, 6, 9, 7, 4, 4, 9, 3],\n",
       "        [1, 8, 4, 4, 1, 5, 3, 4, 7, 7],\n",
       "        [5, 8, 5, 2, 1, 5, 6, 8, 1, 7],\n",
       "        [1, 6, 9, 3, 9, 4, 3, 5, 4, 4]],\n",
       "\n",
       "       [[8, 7, 7, 3, 2, 2, 4, 4, 1, 5],\n",
       "        [8, 8, 5, 1, 3, 7, 8, 5, 1, 8],\n",
       "        [6, 4, 9, 7, 1, 4, 6, 1, 5, 6],\n",
       "        [2, 7, 5, 7, 2, 3, 8, 2, 4, 3],\n",
       "        [9, 8, 2, 1, 9, 6, 1, 9, 1, 1]]])"
      ]
     },
     "execution_count": 111,
     "metadata": {},
     "output_type": "execute_result"
    }
   ],
   "source": [
    "a=np.random.randint(1,10,size=(5,5,10))\n",
    "a"
   ]
  },
  {
   "cell_type": "code",
   "execution_count": 112,
   "id": "3b3d3e31-2535-44c1-b133-f1eba56665fb",
   "metadata": {},
   "outputs": [
    {
     "data": {
      "text/plain": [
       "array([[[5, 5, 6, 3, 4],\n",
       "        [5, 2, 6, 9, 1],\n",
       "        [1, 5, 6, 2, 3],\n",
       "        [9, 1, 6, 3, 3],\n",
       "        [5, 7, 3, 1, 3]],\n",
       "\n",
       "       [[1, 8, 3, 6, 6],\n",
       "        [2, 5, 2, 8, 9],\n",
       "        [8, 5, 5, 3, 8],\n",
       "        [9, 6, 9, 3, 7],\n",
       "        [2, 5, 7, 2, 5]],\n",
       "\n",
       "       [[1, 6, 5, 7, 2],\n",
       "        [3, 3, 3, 5, 9],\n",
       "        [9, 9, 1, 7, 1],\n",
       "        [4, 3, 2, 1, 3],\n",
       "        [4, 1, 2, 4, 1]],\n",
       "\n",
       "       [[2, 1, 4, 4, 4],\n",
       "        [1, 9, 3, 9, 4],\n",
       "        [6, 1, 6, 3, 5],\n",
       "        [4, 2, 6, 4, 7],\n",
       "        [5, 2, 9, 1, 5]],\n",
       "\n",
       "       [[9, 4, 4, 4, 8],\n",
       "        [9, 7, 2, 6, 9],\n",
       "        [4, 9, 9, 9, 3],\n",
       "        [2, 8, 4, 8, 8],\n",
       "        [3, 8, 5, 2, 1]],\n",
       "\n",
       "       [[8, 4, 8, 4, 8],\n",
       "        [3, 5, 5, 4, 7],\n",
       "        [2, 8, 2, 6, 6],\n",
       "        [6, 7, 2, 8, 2],\n",
       "        [7, 1, 3, 3, 7]],\n",
       "\n",
       "       [[9, 6, 8, 2, 8],\n",
       "        [2, 2, 2, 3, 6],\n",
       "        [2, 9, 3, 6, 9],\n",
       "        [7, 4, 4, 9, 3],\n",
       "        [1, 8, 4, 4, 1]],\n",
       "\n",
       "       [[5, 3, 4, 7, 7],\n",
       "        [5, 8, 5, 2, 1],\n",
       "        [5, 6, 8, 1, 7],\n",
       "        [1, 6, 9, 3, 9],\n",
       "        [4, 3, 5, 4, 4]],\n",
       "\n",
       "       [[8, 7, 7, 3, 2],\n",
       "        [2, 4, 4, 1, 5],\n",
       "        [8, 8, 5, 1, 3],\n",
       "        [7, 8, 5, 1, 8],\n",
       "        [6, 4, 9, 7, 1]],\n",
       "\n",
       "       [[4, 6, 1, 5, 6],\n",
       "        [2, 7, 5, 7, 2],\n",
       "        [3, 8, 2, 4, 3],\n",
       "        [9, 8, 2, 1, 9],\n",
       "        [6, 1, 9, 1, 1]]])"
      ]
     },
     "execution_count": 112,
     "metadata": {},
     "output_type": "execute_result"
    }
   ],
   "source": [
    "a.reshape(10,5,5)"
   ]
  },
  {
   "cell_type": "code",
   "execution_count": 113,
   "id": "a641e9b7-c552-4475-96f5-c96fe426fcf0",
   "metadata": {},
   "outputs": [
    {
     "data": {
      "text/plain": [
       "(5, 5, 10)"
      ]
     },
     "execution_count": 113,
     "metadata": {},
     "output_type": "execute_result"
    }
   ],
   "source": [
    "a.shape"
   ]
  },
  {
   "cell_type": "code",
   "execution_count": 114,
   "id": "2ba6534b-7360-4117-85e4-52824238fb3b",
   "metadata": {},
   "outputs": [
    {
     "data": {
      "text/plain": [
       "array([[[5, 1, 9, 9, 8],\n",
       "        [1, 9, 4, 2, 8],\n",
       "        [5, 4, 3, 1, 6],\n",
       "        [2, 1, 3, 5, 2],\n",
       "        [9, 4, 6, 1, 9]],\n",
       "\n",
       "       [[5, 6, 4, 6, 7],\n",
       "        [5, 9, 9, 9, 8],\n",
       "        [7, 1, 8, 8, 4],\n",
       "        [5, 9, 5, 8, 7],\n",
       "        [6, 2, 7, 6, 8]],\n",
       "\n",
       "       [[6, 5, 4, 8, 7],\n",
       "        [6, 1, 9, 3, 5],\n",
       "        [3, 2, 5, 4, 9],\n",
       "        [2, 3, 5, 5, 5],\n",
       "        [9, 6, 2, 9, 2]],\n",
       "\n",
       "       [[3, 7, 4, 2, 3],\n",
       "        [2, 7, 9, 6, 1],\n",
       "        [1, 4, 2, 4, 7],\n",
       "        [8, 9, 4, 2, 7],\n",
       "        [3, 4, 8, 3, 1]],\n",
       "\n",
       "       [[4, 2, 8, 8, 2],\n",
       "        [3, 1, 3, 9, 3],\n",
       "        [3, 1, 1, 1, 1],\n",
       "        [9, 4, 7, 1, 2],\n",
       "        [7, 7, 2, 9, 9]],\n",
       "\n",
       "       [[5, 3, 9, 2, 2],\n",
       "        [9, 4, 2, 7, 7],\n",
       "        [1, 2, 8, 5, 4],\n",
       "        [8, 6, 2, 5, 3],\n",
       "        [2, 5, 7, 4, 6]],\n",
       "\n",
       "       [[2, 3, 7, 2, 4],\n",
       "        [1, 3, 8, 4, 8],\n",
       "        [8, 1, 4, 3, 6],\n",
       "        [5, 1, 8, 6, 8],\n",
       "        [5, 2, 1, 3, 1]],\n",
       "\n",
       "       [[6, 3, 2, 2, 4],\n",
       "        [6, 2, 4, 4, 5],\n",
       "        [3, 4, 8, 4, 1],\n",
       "        [5, 6, 2, 8, 2],\n",
       "        [7, 9, 3, 5, 9]],\n",
       "\n",
       "       [[9, 5, 6, 3, 1],\n",
       "        [3, 1, 8, 9, 1],\n",
       "        [6, 4, 4, 7, 5],\n",
       "        [3, 3, 6, 1, 4],\n",
       "        [2, 1, 3, 4, 1]],\n",
       "\n",
       "       [[1, 9, 9, 6, 5],\n",
       "        [3, 3, 8, 3, 8],\n",
       "        [6, 4, 8, 7, 6],\n",
       "        [8, 5, 6, 7, 3],\n",
       "        [5, 5, 7, 4, 1]]])"
      ]
     },
     "execution_count": 114,
     "metadata": {},
     "output_type": "execute_result"
    }
   ],
   "source": [
    "a.T"
   ]
  },
  {
   "cell_type": "code",
   "execution_count": 115,
   "id": "89ebf6af-dbbe-4656-95d0-ef5f4acc8ce7",
   "metadata": {},
   "outputs": [
    {
     "data": {
      "text/plain": [
       "(5, 5, 10)"
      ]
     },
     "execution_count": 115,
     "metadata": {},
     "output_type": "execute_result"
    }
   ],
   "source": [
    "a.shape"
   ]
  },
  {
   "cell_type": "code",
   "execution_count": 116,
   "id": "68d8884d-990b-4234-9b27-9be852af6691",
   "metadata": {},
   "outputs": [
    {
     "data": {
      "text/plain": [
       "array([[7, 4, 3, 4, 7],\n",
       "       [4, 1, 7, 5, 1],\n",
       "       [1, 1, 9, 1, 6]])"
      ]
     },
     "execution_count": 116,
     "metadata": {},
     "output_type": "execute_result"
    }
   ],
   "source": [
    "a1=np.random.randint(1,10,(3,5))\n",
    "a1"
   ]
  },
  {
   "cell_type": "code",
   "execution_count": 117,
   "id": "f6ae7ddd-b0ea-4bee-b5ee-96cb5d76a507",
   "metadata": {},
   "outputs": [
    {
     "data": {
      "text/plain": [
       "array([[7, 4, 1],\n",
       "       [4, 1, 1],\n",
       "       [3, 7, 9],\n",
       "       [4, 5, 1],\n",
       "       [7, 1, 6]])"
      ]
     },
     "execution_count": 117,
     "metadata": {},
     "output_type": "execute_result"
    }
   ],
   "source": [
    "a1.T"
   ]
  },
  {
   "cell_type": "code",
   "execution_count": 118,
   "id": "f31f1ab5-967e-49bd-8400-290d037d0eeb",
   "metadata": {},
   "outputs": [
    {
     "data": {
      "text/plain": [
       "array([[5, 0, 3],\n",
       "       [3, 7, 9],\n",
       "       [3, 5, 2]])"
      ]
     },
     "execution_count": 118,
     "metadata": {},
     "output_type": "execute_result"
    }
   ],
   "source": [
    "np.random.seed(0)\n",
    "a2=np.random.randint(0,10,(3,3))\n",
    "a2"
   ]
  },
  {
   "cell_type": "code",
   "execution_count": 119,
   "id": "1082f0d4-cc25-4eec-9e68-9018ef1aaddb",
   "metadata": {},
   "outputs": [
    {
     "data": {
      "text/plain": [
       "array([[5, 8, 9],\n",
       "       [5, 0, 0],\n",
       "       [1, 7, 6]])"
      ]
     },
     "execution_count": 119,
     "metadata": {},
     "output_type": "execute_result"
    }
   ],
   "source": [
    "np.random.seed(1)\n",
    "a3=np.random.randint(0,10,(3,3))\n",
    "a3"
   ]
  },
  {
   "cell_type": "code",
   "execution_count": 120,
   "id": "83e5aad4-b95c-4bb3-9447-f9d21f093747",
   "metadata": {},
   "outputs": [
    {
     "data": {
      "text/plain": [
       "array([[25,  0, 27],\n",
       "       [15,  0,  0],\n",
       "       [ 3, 35, 12]])"
      ]
     },
     "execution_count": 120,
     "metadata": {},
     "output_type": "execute_result"
    }
   ],
   "source": [
    "a2*a3"
   ]
  },
  {
   "cell_type": "code",
   "execution_count": 121,
   "id": "cd053c6d-d316-4401-a817-72a79817e14f",
   "metadata": {},
   "outputs": [
    {
     "data": {
      "text/plain": [
       "array([[28, 61, 63],\n",
       "       [59, 87, 81],\n",
       "       [42, 38, 39]])"
      ]
     },
     "execution_count": 121,
     "metadata": {},
     "output_type": "execute_result"
    }
   ],
   "source": [
    "np.dot(a2,a3)"
   ]
  },
  {
   "cell_type": "code",
   "execution_count": 122,
   "id": "52f9772d-aa1d-4ba9-a569-c326d3f8b386",
   "metadata": {},
   "outputs": [
    {
     "data": {
      "text/plain": [
       "array([[5, 0],\n",
       "       [3, 3]])"
      ]
     },
     "execution_count": 122,
     "metadata": {},
     "output_type": "execute_result"
    }
   ],
   "source": [
    "np.random.seed(0)\n",
    "a4=np.random.randint(0,10,size=(2,2))\n",
    "a4"
   ]
  },
  {
   "cell_type": "code",
   "execution_count": 123,
   "id": "9dab1619-be91-4663-9cf8-43f59f96ee3c",
   "metadata": {},
   "outputs": [
    {
     "data": {
      "text/plain": [
       "array([[5, 8],\n",
       "       [9, 5]])"
      ]
     },
     "execution_count": 123,
     "metadata": {},
     "output_type": "execute_result"
    }
   ],
   "source": [
    "np.random.seed(1)\n",
    "a5=np.random.randint(0,10,size=(2,2))\n",
    "a5"
   ]
  },
  {
   "cell_type": "code",
   "execution_count": 124,
   "id": "8ec53635-2f99-4a39-a5c9-b80b356d0598",
   "metadata": {},
   "outputs": [
    {
     "data": {
      "text/plain": [
       "(array([[False, False],\n",
       "        [False, False]]),\n",
       " array([[ True, False],\n",
       "        [False, False]]),\n",
       " array([[False,  True],\n",
       "        [ True,  True]]),\n",
       " array([[ True,  True],\n",
       "        [ True,  True]]),\n",
       " array([[ True, False],\n",
       "        [False, False]]),\n",
       " array([[False,  True],\n",
       "        [ True,  True]]))"
      ]
     },
     "execution_count": 124,
     "metadata": {},
     "output_type": "execute_result"
    }
   ],
   "source": [
    "a4>a5 , a4>=a5 , a4<a5 , a4<=a5 , a4==a5 , a4!=a5"
   ]
  },
  {
   "cell_type": "code",
   "execution_count": 138,
   "id": "56552082-1e55-4988-9124-49ff1cad300f",
   "metadata": {},
   "outputs": [
    {
     "data": {
      "text/plain": [
       "array([[89, 14, 48, 73],\n",
       "       [31, 72,  4, 71],\n",
       "       [22, 50, 58,  4]])"
      ]
     },
     "execution_count": 138,
     "metadata": {},
     "output_type": "execute_result"
    }
   ],
   "source": [
    "a6=np.random.randint(1,100,size=(3,4))\n",
    "a6"
   ]
  },
  {
   "cell_type": "code",
   "execution_count": 139,
   "id": "dbbc25d5-a07d-469c-97b6-d0f4a7b3542a",
   "metadata": {},
   "outputs": [
    {
     "data": {
      "text/plain": [
       "array([[14, 48, 73, 89],\n",
       "       [ 4, 31, 71, 72],\n",
       "       [ 4, 22, 50, 58]])"
      ]
     },
     "execution_count": 139,
     "metadata": {},
     "output_type": "execute_result"
    }
   ],
   "source": [
    "np.sort(a6)"
   ]
  },
  {
   "cell_type": "code",
   "execution_count": 140,
   "id": "c4ef2088-810f-4764-85c8-ce2d21d4f674",
   "metadata": {},
   "outputs": [
    {
     "data": {
      "text/plain": [
       "array([[1, 2, 3, 0],\n",
       "       [2, 0, 3, 1],\n",
       "       [3, 0, 1, 2]], dtype=int64)"
      ]
     },
     "execution_count": 140,
     "metadata": {},
     "output_type": "execute_result"
    }
   ],
   "source": [
    "np.argsort(a6)"
   ]
  },
  {
   "cell_type": "code",
   "execution_count": 141,
   "id": "4446a762-a63b-432d-90d9-28f3d80c8e55",
   "metadata": {},
   "outputs": [
    {
     "data": {
      "text/plain": [
       "array([1, 2, 3], dtype=int64)"
      ]
     },
     "execution_count": 141,
     "metadata": {},
     "output_type": "execute_result"
    }
   ],
   "source": [
    "np.argmin(a6,axis=1)"
   ]
  },
  {
   "cell_type": "code",
   "execution_count": 142,
   "id": "8d046156-0167-4ce6-be54-81444e77a2a9",
   "metadata": {},
   "outputs": [
    {
     "data": {
      "text/plain": [
       "array([0, 1, 2, 0], dtype=int64)"
      ]
     },
     "execution_count": 142,
     "metadata": {},
     "output_type": "execute_result"
    }
   ],
   "source": [
    "np.argmax(a6,axis=0)"
   ]
  },
  {
   "cell_type": "code",
   "execution_count": 161,
   "id": "173b782e-435d-4601-b1cf-0cbb5910142e",
   "metadata": {},
   "outputs": [
    {
     "data": {
      "text/html": [
       "<img src=\"numpy-images/dog-photo.png\">\n"
      ],
      "text/plain": [
       "<IPython.core.display.HTML object>"
      ]
     },
     "metadata": {},
     "output_type": "display_data"
    }
   ],
   "source": [
    "%%html\n",
    "<img src=\"numpy-images/dog-photo.png\">"
   ]
  },
  {
   "cell_type": "code",
   "execution_count": 157,
   "id": "0f6ebed6-b92d-4ecb-9c8c-e5dd8cea3cc9",
   "metadata": {},
   "outputs": [
    {
     "data": {
      "text/plain": [
       "array([[[0.70980394, 0.80784315, 0.88235295, 1.        ],\n",
       "        [0.72156864, 0.8117647 , 0.8862745 , 1.        ],\n",
       "        [0.7411765 , 0.8156863 , 0.8862745 , 1.        ],\n",
       "        ...,\n",
       "        [0.49803922, 0.6862745 , 0.8392157 , 1.        ],\n",
       "        [0.49411765, 0.68235296, 0.8392157 , 1.        ],\n",
       "        [0.49411765, 0.68235296, 0.8352941 , 1.        ]],\n",
       "\n",
       "       [[0.69411767, 0.8039216 , 0.8862745 , 1.        ],\n",
       "        [0.7019608 , 0.8039216 , 0.88235295, 1.        ],\n",
       "        [0.7058824 , 0.80784315, 0.88235295, 1.        ],\n",
       "        ...,\n",
       "        [0.5019608 , 0.6862745 , 0.84705883, 1.        ],\n",
       "        [0.49411765, 0.68235296, 0.84313726, 1.        ],\n",
       "        [0.49411765, 0.68235296, 0.8392157 , 1.        ]],\n",
       "\n",
       "       [[0.6901961 , 0.8       , 0.88235295, 1.        ],\n",
       "        [0.69803923, 0.8039216 , 0.88235295, 1.        ],\n",
       "        [0.7058824 , 0.80784315, 0.88235295, 1.        ],\n",
       "        ...,\n",
       "        [0.5019608 , 0.6862745 , 0.84705883, 1.        ],\n",
       "        [0.49803922, 0.6862745 , 0.84313726, 1.        ],\n",
       "        [0.49803922, 0.6862745 , 0.84313726, 1.        ]],\n",
       "\n",
       "       ...,\n",
       "\n",
       "       [[0.9098039 , 0.81960785, 0.654902  , 1.        ],\n",
       "        [0.8352941 , 0.7490196 , 0.6509804 , 1.        ],\n",
       "        [0.72156864, 0.6313726 , 0.5372549 , 1.        ],\n",
       "        ...,\n",
       "        [0.01568628, 0.07058824, 0.02352941, 1.        ],\n",
       "        [0.03921569, 0.09411765, 0.03529412, 1.        ],\n",
       "        [0.03921569, 0.09019608, 0.05490196, 1.        ]],\n",
       "\n",
       "       [[0.9137255 , 0.83137256, 0.6784314 , 1.        ],\n",
       "        [0.8117647 , 0.7294118 , 0.627451  , 1.        ],\n",
       "        [0.65882355, 0.5686275 , 0.47843137, 1.        ],\n",
       "        ...,\n",
       "        [0.00392157, 0.05490196, 0.03529412, 1.        ],\n",
       "        [0.03137255, 0.09019608, 0.05490196, 1.        ],\n",
       "        [0.04705882, 0.10588235, 0.06666667, 1.        ]],\n",
       "\n",
       "       [[0.9137255 , 0.83137256, 0.68235296, 1.        ],\n",
       "        [0.76862746, 0.68235296, 0.5882353 , 1.        ],\n",
       "        [0.59607846, 0.5058824 , 0.44313726, 1.        ],\n",
       "        ...,\n",
       "        [0.03921569, 0.10196079, 0.07058824, 1.        ],\n",
       "        [0.02745098, 0.08235294, 0.05882353, 1.        ],\n",
       "        [0.05098039, 0.11372549, 0.07058824, 1.        ]]], dtype=float32)"
      ]
     },
     "execution_count": 157,
     "metadata": {},
     "output_type": "execute_result"
    }
   ],
   "source": [
    "from matplotlib.image import imread\n",
    "imread(\"numpy-images/dog-photo.png\")"
   ]
  },
  {
   "cell_type": "code",
   "execution_count": 163,
   "id": "f04215d6-dbc4-4687-9625-d4f8d7ed9788",
   "metadata": {},
   "outputs": [
    {
     "data": {
      "text/html": [
       "<img src=\"numpy-images/car-photo.png\">\n"
      ],
      "text/plain": [
       "<IPython.core.display.HTML object>"
      ]
     },
     "metadata": {},
     "output_type": "display_data"
    }
   ],
   "source": [
    "%%html\n",
    "<img src=\"numpy-images/car-photo.png\">"
   ]
  },
  {
   "cell_type": "code",
   "execution_count": 164,
   "id": "1259bebb-b2c3-4830-b2a5-e157f03513be",
   "metadata": {},
   "outputs": [
    {
     "data": {
      "text/plain": [
       "array([[[0.5019608 , 0.50980395, 0.4862745 , 1.        ],\n",
       "        [0.3372549 , 0.34509805, 0.30588236, 1.        ],\n",
       "        [0.20392157, 0.21568628, 0.14901961, 1.        ],\n",
       "        ...,\n",
       "        [0.64705884, 0.7058824 , 0.54901963, 1.        ],\n",
       "        [0.59607846, 0.63529414, 0.45882353, 1.        ],\n",
       "        [0.44705883, 0.47058824, 0.3372549 , 1.        ]],\n",
       "\n",
       "       [[0.44313726, 0.43529412, 0.40392157, 1.        ],\n",
       "        [0.3137255 , 0.31764707, 0.27450982, 1.        ],\n",
       "        [0.2       , 0.21176471, 0.14117648, 1.        ],\n",
       "        ...,\n",
       "        [0.5058824 , 0.5372549 , 0.4117647 , 1.        ],\n",
       "        [0.49803922, 0.52156866, 0.39607844, 1.        ],\n",
       "        [0.4       , 0.42745098, 0.34117648, 1.        ]],\n",
       "\n",
       "       [[0.39607844, 0.38039216, 0.34117648, 1.        ],\n",
       "        [0.31764707, 0.3137255 , 0.27450982, 1.        ],\n",
       "        [0.28627452, 0.29411766, 0.24705882, 1.        ],\n",
       "        ...,\n",
       "        [0.44705883, 0.45882353, 0.32156864, 1.        ],\n",
       "        [0.45882353, 0.48235294, 0.3529412 , 1.        ],\n",
       "        [0.4509804 , 0.49019608, 0.38039216, 1.        ]],\n",
       "\n",
       "       ...,\n",
       "\n",
       "       [[0.47058824, 0.57254905, 0.6313726 , 1.        ],\n",
       "        [0.4392157 , 0.53333336, 0.5882353 , 1.        ],\n",
       "        [0.48235294, 0.5803922 , 0.6392157 , 1.        ],\n",
       "        ...,\n",
       "        [0.6156863 , 0.7529412 , 0.827451  , 1.        ],\n",
       "        [0.61960787, 0.7607843 , 0.83137256, 1.        ],\n",
       "        [0.5921569 , 0.73333335, 0.7921569 , 1.        ]],\n",
       "\n",
       "       [[0.4745098 , 0.5803922 , 0.6392157 , 1.        ],\n",
       "        [0.47058824, 0.58431375, 0.63529414, 1.        ],\n",
       "        [0.4117647 , 0.5019608 , 0.5529412 , 1.        ],\n",
       "        ...,\n",
       "        [0.54901963, 0.6784314 , 0.74509805, 1.        ],\n",
       "        [0.65882355, 0.8117647 , 0.8862745 , 1.        ],\n",
       "        [0.60784316, 0.74509805, 0.8117647 , 1.        ]],\n",
       "\n",
       "       [[0.4745098 , 0.57254905, 0.627451  , 1.        ],\n",
       "        [0.49411765, 0.6       , 0.65882355, 1.        ],\n",
       "        [0.49019608, 0.5921569 , 0.64705884, 1.        ],\n",
       "        ...,\n",
       "        [0.5294118 , 0.63529414, 0.69803923, 1.        ],\n",
       "        [0.5529412 , 0.67058825, 0.7372549 , 1.        ],\n",
       "        [0.6156863 , 0.73333335, 0.8       , 1.        ]]], dtype=float32)"
      ]
     },
     "execution_count": 164,
     "metadata": {},
     "output_type": "execute_result"
    }
   ],
   "source": [
    "imread(\"numpy-images/car-photo.png\")"
   ]
  },
  {
   "cell_type": "code",
   "execution_count": 165,
   "id": "10aa1e27-dfea-404e-b378-8db5765bc0e0",
   "metadata": {},
   "outputs": [
    {
     "data": {
      "text/html": [
       "<img src=\"numpy-images/panda.png\">\n"
      ],
      "text/plain": [
       "<IPython.core.display.HTML object>"
      ]
     },
     "metadata": {},
     "output_type": "display_data"
    }
   ],
   "source": [
    "%%html\n",
    "<img src=\"numpy-images/panda.png\">"
   ]
  },
  {
   "cell_type": "code",
   "execution_count": 166,
   "id": "918e6f35-9417-474a-b156-b975e9d86fba",
   "metadata": {},
   "outputs": [
    {
     "data": {
      "text/plain": [
       "array([[[0.05490196, 0.10588235, 0.06666667],\n",
       "        [0.05490196, 0.10588235, 0.06666667],\n",
       "        [0.05490196, 0.10588235, 0.06666667],\n",
       "        ...,\n",
       "        [0.16470589, 0.12941177, 0.09411765],\n",
       "        [0.16470589, 0.12941177, 0.09411765],\n",
       "        [0.16470589, 0.12941177, 0.09411765]],\n",
       "\n",
       "       [[0.05490196, 0.10588235, 0.06666667],\n",
       "        [0.05490196, 0.10588235, 0.06666667],\n",
       "        [0.05490196, 0.10588235, 0.06666667],\n",
       "        ...,\n",
       "        [0.16470589, 0.12941177, 0.09411765],\n",
       "        [0.16470589, 0.12941177, 0.09411765],\n",
       "        [0.16470589, 0.12941177, 0.09411765]],\n",
       "\n",
       "       [[0.05490196, 0.10588235, 0.06666667],\n",
       "        [0.05490196, 0.10588235, 0.06666667],\n",
       "        [0.05490196, 0.10588235, 0.06666667],\n",
       "        ...,\n",
       "        [0.16470589, 0.12941177, 0.09411765],\n",
       "        [0.16470589, 0.12941177, 0.09411765],\n",
       "        [0.16470589, 0.12941177, 0.09411765]],\n",
       "\n",
       "       ...,\n",
       "\n",
       "       [[0.13333334, 0.07450981, 0.05490196],\n",
       "        [0.12156863, 0.0627451 , 0.04313726],\n",
       "        [0.10980392, 0.05098039, 0.03137255],\n",
       "        ...,\n",
       "        [0.02745098, 0.02745098, 0.03529412],\n",
       "        [0.02745098, 0.02745098, 0.03529412],\n",
       "        [0.02745098, 0.02745098, 0.03529412]],\n",
       "\n",
       "       [[0.13333334, 0.07450981, 0.05490196],\n",
       "        [0.12156863, 0.0627451 , 0.04313726],\n",
       "        [0.12156863, 0.0627451 , 0.04313726],\n",
       "        ...,\n",
       "        [0.02352941, 0.02352941, 0.03137255],\n",
       "        [0.02352941, 0.02352941, 0.03137255],\n",
       "        [0.02352941, 0.02352941, 0.03137255]],\n",
       "\n",
       "       [[0.13333334, 0.07450981, 0.05490196],\n",
       "        [0.12156863, 0.0627451 , 0.04313726],\n",
       "        [0.12156863, 0.0627451 , 0.04313726],\n",
       "        ...,\n",
       "        [0.02352941, 0.02352941, 0.03137255],\n",
       "        [0.02352941, 0.02352941, 0.03137255],\n",
       "        [0.02352941, 0.02352941, 0.03137255]]], dtype=float32)"
      ]
     },
     "execution_count": 166,
     "metadata": {},
     "output_type": "execute_result"
    }
   ],
   "source": [
    "imread(\"numpy-images/panda.png\")"
   ]
  }
 ],
 "metadata": {
  "kernelspec": {
   "display_name": "Python 3 (ipykernel)",
   "language": "python",
   "name": "python3"
  },
  "language_info": {
   "codemirror_mode": {
    "name": "ipython",
    "version": 3
   },
   "file_extension": ".py",
   "mimetype": "text/x-python",
   "name": "python",
   "nbconvert_exporter": "python",
   "pygments_lexer": "ipython3",
   "version": "3.11.7"
  }
 },
 "nbformat": 4,
 "nbformat_minor": 5
}
